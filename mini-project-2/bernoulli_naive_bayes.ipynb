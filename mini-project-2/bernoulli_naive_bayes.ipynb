{
 "cells": [
  {
   "cell_type": "code",
   "execution_count": 1,
   "metadata": {},
   "outputs": [],
   "source": [
    "import math\n",
    "from collections import defaultdict\n",
    "\n",
    "import numpy as np\n",
    "\n",
    "class BernoulliNB(object):\n",
    "    p_y, p_x_y = None, None\n",
    "\n",
    "    def fit(self, x, y):\n",
    "        self.p_y = np.zeros((2,), dtype=np.float64)\n",
    "        self.p_x_y = np.ones((2, 2, x.shape[1]), dtype=np.float64)  # NOTE: Laplace Smoothing\n",
    "\n",
    "        y_0 = np.argwhere(y == 0.0)\n",
    "        y_1 = np.argwhere(y == 1.0)\n",
    "\n",
    "        self.p_y[0] += y_0.shape[0]\n",
    "        self.p_y[1] += y_1.shape[0]\n",
    "\n",
    "        x_j_0_sum = x[y_0].sum(axis=0).squeeze()\n",
    "        x_j_1_sum = x[y_1].sum(axis=0).squeeze()\n",
    "\n",
    "        self.p_x_y[0][1] += x_j_0_sum  # NOTE: Xj=1, Yj=0\n",
    "        self.p_x_y[1][1] += x_j_1_sum  # NOTE: Xj=1, Yj=1\n",
    "        self.p_x_y[0][0] += y_0.shape[0] - x_j_0_sum  # NOTE: Xj=0, Yj=0\n",
    "        self.p_x_y[1][0] += y_1.shape[0] - x_j_1_sum  # NOTE: Xj=0, Yj=1\n",
    "\n",
    "        self.p_x_y /= np.expand_dims(self.p_y, axis=1) + 2  # NOTE: Laplace Smoothing\n",
    "        self.p_y /= self.p_y.sum()\n",
    "\n",
    "        return self\n",
    "\n",
    "    def predict(self, x):\n",
    "        pr = []\n",
    "        for x_i in x:\n",
    "            lo = math.log2(self.p_y[1]) - math.log2(1 - self.p_y[1])\n",
    "            for j, x_i_j in enumerate(x_i):\n",
    "                lo += math.log2(self.p_x_y[1][x_i_j][j]) - math.log2(self.p_x_y[0][x_i_j][j])\n",
    "            pr.append(int(lo >= 0))\n",
    "        return np.array(pr, dtype=np.float64)"
   ]
  },
  {
   "cell_type": "code",
   "execution_count": 2,
   "metadata": {},
   "outputs": [],
   "source": [
    "import logging\n",
    "from datetime import datetime\n",
    "\n",
    "import numpy as np\n",
    "\n",
    "logger = logging.getLogger(__name__)\n",
    "np.random.seed(2019)\n",
    "\n",
    "log_path = datetime.now().strftime('./logs/%Y-%m-%d-%H-%M-%S.log')\n",
    "logging.basicConfig(filename=log_path, level=logging.INFO)\n",
    "logging.getLogger().addHandler(logging.StreamHandler())"
   ]
  },
  {
   "cell_type": "code",
   "execution_count": 3,
   "metadata": {},
   "outputs": [],
   "source": [
    "import os\n",
    "\n",
    "import numpy as np\n",
    "\n",
    "def load_data(dp):\n",
    "    x = []\n",
    "    for fn in sorted(os.listdir(dp), key=lambda y: int(y[:-4])):\n",
    "        with open('{dp}{fn}'.format(dp=dp, fn=fn), 'r') as f:\n",
    "            x.append(f.read())\n",
    "    return x\n",
    "\n",
    "x_tr_pos = np.array(load_data('./dataset/train/pos/'), dtype=np.str)\n",
    "x_tr_neg = np.array(load_data('./dataset/train/neg/'), dtype=np.str)\n",
    "x_tr = np.concatenate((x_tr_pos, x_tr_neg), axis=0)\n",
    "y_tr = np.concatenate((np.ones_like(x_tr_pos, dtype=np.float64), np.zeros_like(x_tr_neg, dtype=np.float64)), axis=0)\n",
    "x_ts = np.array(load_data('./dataset/test/'), dtype=np.str)\n",
    "\n",
    "del x_tr_pos\n",
    "del x_tr_neg"
   ]
  },
  {
   "cell_type": "code",
   "execution_count": 4,
   "metadata": {},
   "outputs": [],
   "source": [
    "import string\n",
    "\n",
    "from sklearn.feature_extraction.text import CountVectorizer\n",
    "\n",
    "token_pattern = r'\\w+|[%s]' % string.punctuation\n",
    "cnt = CountVectorizer(token_pattern=token_pattern,\n",
    "                      ngram_range=(1, 1),\n",
    "                      binary=True)\n",
    "x_tr = cnt.fit_transform(x_tr)\n",
    "x_ts = cnt.transform(x_ts)"
   ]
  },
  {
   "cell_type": "code",
   "execution_count": 7,
   "metadata": {},
   "outputs": [],
   "source": [
    "cl_bnb = BernoulliNB().fit(x_tr.toarray(), y_tr)\n",
    "cl_bnb_prd = cl_bnb.predict(x_ts[:100].toarray())"
   ]
  },
  {
   "cell_type": "code",
   "execution_count": 8,
   "metadata": {},
   "outputs": [],
   "source": [
    "from sklearn import naive_bayes\n",
    "\n",
    "sk_bnb = naive_bayes.BernoulliNB().fit(x_tr, y_tr)\n",
    "sk_bnb_prd = sk_bnb.predict(x_ts[:100].toarray())"
   ]
  },
  {
   "cell_type": "code",
   "execution_count": 9,
   "metadata": {},
   "outputs": [],
   "source": [
    "for x, y in zip(cl_bnb_prd, sk_bnb_prd):\n",
    "    assert x == y"
   ]
  }
 ],
 "metadata": {
  "kernelspec": {
   "display_name": "Python 3",
   "language": "python",
   "name": "python3"
  },
  "language_info": {
   "codemirror_mode": {
    "name": "ipython",
    "version": 3
   },
   "file_extension": ".py",
   "mimetype": "text/x-python",
   "name": "python",
   "nbconvert_exporter": "python",
   "pygments_lexer": "ipython3",
   "version": "3.7.2"
  }
 },
 "nbformat": 4,
 "nbformat_minor": 2
}
