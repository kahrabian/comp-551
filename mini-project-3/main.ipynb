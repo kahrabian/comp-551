{
 "cells": [
  {
   "cell_type": "code",
   "execution_count": 1,
   "metadata": {},
   "outputs": [],
   "source": [
    "import logging\n",
    "import random\n",
    "import warnings\n",
    "from datetime import datetime\n",
    "\n",
    "import cv2\n",
    "import matplotlib.pyplot as plt\n",
    "import numpy as np\n",
    "import pandas as pd\n",
    "import torch\n",
    "from sklearn.model_selection import StratifiedShuffleSplit\n",
    "from torch import nn\n",
    "from torchvision import models, transforms"
   ]
  },
  {
   "cell_type": "code",
   "execution_count": 2,
   "metadata": {},
   "outputs": [],
   "source": [
    "%matplotlib widget"
   ]
  },
  {
   "cell_type": "code",
   "execution_count": 3,
   "metadata": {},
   "outputs": [],
   "source": [
    "warnings.simplefilter('ignore')"
   ]
  },
  {
   "cell_type": "code",
   "execution_count": 4,
   "metadata": {},
   "outputs": [],
   "source": [
    "logger = logging.getLogger(__name__)\n",
    "np.random.seed(2019)\n",
    "\n",
    "log_path = datetime.now().strftime('./logs/%Y-%m-%d-%H-%M-%S.log')\n",
    "logging.basicConfig(filename=log_path, level=logging.INFO)\n",
    "logging.getLogger().addHandler(logging.StreamHandler())"
   ]
  },
  {
   "cell_type": "code",
   "execution_count": 5,
   "metadata": {},
   "outputs": [],
   "source": [
    "imagenet_img_channels = 3\n",
    "imagenet_img_dim = 224\n",
    "mnist_modified_img_dim = 64\n",
    "pad = (imagenet_img_dim - mnist_modified_img_dim) // 2\n",
    "\n",
    "num_classes = 10\n",
    "tr_samples = 40000\n",
    "ts_samples = 10000"
   ]
  },
  {
   "cell_type": "code",
   "execution_count": 6,
   "metadata": {},
   "outputs": [],
   "source": [
    "x_tr = np.expand_dims(pd.read_pickle('./dataset/train_images.pkl'), axis=1)\n",
    "x_ts = np.expand_dims(pd.read_pickle('./dataset/test_images.pkl'), axis=1)\n",
    "y_tr = pd.read_csv('./dataset/train_labels.csv').values[:, 1]"
   ]
  },
  {
   "cell_type": "code",
   "execution_count": 7,
   "metadata": {},
   "outputs": [
    {
     "name": "stdout",
     "output_type": "stream",
     "text": [
      "(40000, 1, 64, 64)\n",
      "(10000, 1, 64, 64)\n",
      "(40000,)\n"
     ]
    }
   ],
   "source": [
    "print(x_tr.shape)\n",
    "print(x_ts.shape)\n",
    "print(y_tr.shape)"
   ]
  },
  {
   "cell_type": "code",
   "execution_count": 8,
   "metadata": {},
   "outputs": [
    {
     "data": {
      "application/vnd.jupyter.widget-view+json": {
       "model_id": "ac882755e4b449d6bd5444aeb06df82d",
       "version_major": 2,
       "version_minor": 0
      },
      "text/plain": [
       "FigureCanvasNbAgg()"
      ]
     },
     "metadata": {},
     "output_type": "display_data"
    }
   ],
   "source": [
    "plt.figure()\n",
    "plt.suptitle('Class Distribution Histogram')\n",
    "plt.xlabel('Class')\n",
    "plt.ylabel('Count')\n",
    "plt.xticks(range(num_classes + 1))\n",
    "plt.hist(y_tr, bins=range(num_classes + 1), histtype='bar', rwidth=0.9)\n",
    "plt.show()"
   ]
  },
  {
   "cell_type": "code",
   "execution_count": 9,
   "metadata": {},
   "outputs": [],
   "source": [
    "# Threshold\n",
    "x_tr_org = np.copy(x_tr)\n",
    "x_tr[x_tr > 200] = 255\n",
    "x_tr[x_tr < 255] = 0\n",
    "\n",
    "x_ts[x_ts > 200] = 255\n",
    "x_ts[x_ts < 255] = 0"
   ]
  },
  {
   "cell_type": "code",
   "execution_count": 10,
   "metadata": {},
   "outputs": [],
   "source": [
    "num_random_samples = (5, 5)\n",
    "idx = np.random.randint(0, x_tr.shape[0], num_random_samples)"
   ]
  },
  {
   "cell_type": "code",
   "execution_count": 11,
   "metadata": {},
   "outputs": [
    {
     "data": {
      "application/vnd.jupyter.widget-view+json": {
       "model_id": "cfb57622d43842b8b6030e3f8b0d76e8",
       "version_major": 2,
       "version_minor": 0
      },
      "text/plain": [
       "FigureCanvasNbAgg()"
      ]
     },
     "metadata": {},
     "output_type": "display_data"
    },
    {
     "data": {
      "application/vnd.jupyter.widget-view+json": {
       "model_id": "fadb35fa4d3d474098c8138b45e2f8ac",
       "version_major": 2,
       "version_minor": 0
      },
      "text/plain": [
       "FigureCanvasNbAgg()"
      ]
     },
     "metadata": {},
     "output_type": "display_data"
    }
   ],
   "source": [
    "plt.figure()\n",
    "plt.suptitle('Random samples before thresholding')\n",
    "for i in range(num_random_samples[0]):\n",
    "    for j in range(num_random_samples[1]):\n",
    "        plt.subplot(num_random_samples[0], num_random_samples[1], i * num_random_samples[1] + j + 1)\n",
    "        plt.imshow(x_tr_org[idx[i, j]].squeeze().squeeze(), cmap='gray')\n",
    "plt.show()\n",
    "\n",
    "plt.figure()\n",
    "plt.suptitle('Random samples after thresholding')\n",
    "for i in range(num_random_samples[0]):\n",
    "    for j in range(num_random_samples[1]):\n",
    "        plt.subplot(num_random_samples[0], num_random_samples[1], i * num_random_samples[1] + j + 1)\n",
    "        plt.imshow(x_tr[idx[i, j]].squeeze().squeeze(), cmap='gray')\n",
    "plt.show()"
   ]
  },
  {
   "cell_type": "code",
   "execution_count": 12,
   "metadata": {},
   "outputs": [],
   "source": [
    "del x_tr_org"
   ]
  },
  {
   "cell_type": "code",
   "execution_count": 13,
   "metadata": {},
   "outputs": [],
   "source": [
    "# Remove dots\n",
    "x_tr_org = np.copy(x_tr)\n",
    "for i, x_i in enumerate(x_tr):\n",
    "    x_i = x_i.squeeze().astype(np.uint8)\n",
    "    _, output, stats, _ = cv2.connectedComponentsWithStats(x_i, connectivity=8)\n",
    "\n",
    "    min_component_size = 50\n",
    "\n",
    "    x_i_rm = np.zeros(output.shape)\n",
    "    for j, size in enumerate(stats[1:, -1]):  # Ignore the background\n",
    "        if size >= min_component_size:\n",
    "            x_i_rm[output == j + 1] = 255\n",
    "    x_tr[i] = x_i_rm.reshape(x_i.shape)\n",
    "\n",
    "for i, x_i in enumerate(x_ts):\n",
    "    x_i = x_i.squeeze().astype(np.uint8)\n",
    "    _, output, stats, _ = cv2.connectedComponentsWithStats(x_i, connectivity=8)\n",
    "\n",
    "    min_component_size = 50\n",
    "\n",
    "    x_i_rm = np.zeros(output.shape)\n",
    "    for j, size in enumerate(stats[1:, -1]):  # Ignore the background\n",
    "        if size >= min_component_size:\n",
    "            x_i_rm[output == j + 1] = 255\n",
    "    x_ts[i] = x_i_rm.reshape(x_i.shape)"
   ]
  },
  {
   "cell_type": "code",
   "execution_count": 14,
   "metadata": {},
   "outputs": [
    {
     "data": {
      "application/vnd.jupyter.widget-view+json": {
       "model_id": "003c8ee30a8d46a5a99ab7e5d43e9e79",
       "version_major": 2,
       "version_minor": 0
      },
      "text/plain": [
       "FigureCanvasNbAgg()"
      ]
     },
     "metadata": {},
     "output_type": "display_data"
    },
    {
     "data": {
      "application/vnd.jupyter.widget-view+json": {
       "model_id": "75157895ff8a42c5a5eb7bf1a7747e02",
       "version_major": 2,
       "version_minor": 0
      },
      "text/plain": [
       "FigureCanvasNbAgg()"
      ]
     },
     "metadata": {},
     "output_type": "display_data"
    }
   ],
   "source": [
    "plt.figure()\n",
    "plt.suptitle('Random samples before removing dots')\n",
    "for i in range(num_random_samples[0]):\n",
    "    for j in range(num_random_samples[1]):\n",
    "        plt.subplot(num_random_samples[0], num_random_samples[1], i * num_random_samples[1] + j + 1)\n",
    "        plt.imshow(x_tr_org[idx[i, j]].squeeze().squeeze(), cmap='gray')\n",
    "plt.show()\n",
    "\n",
    "plt.figure()\n",
    "plt.suptitle('Random samples after removing dots')\n",
    "for i in range(num_random_samples[0]):\n",
    "    for j in range(num_random_samples[1]):\n",
    "        plt.subplot(num_random_samples[0], num_random_samples[1], i * num_random_samples[1] + j + 1)\n",
    "        plt.imshow(x_tr[idx[i, j]].squeeze().squeeze(), cmap='gray')\n",
    "plt.show()"
   ]
  },
  {
   "cell_type": "code",
   "execution_count": 15,
   "metadata": {},
   "outputs": [],
   "source": [
    "del x_tr_org"
   ]
  },
  {
   "cell_type": "code",
   "execution_count": 16,
   "metadata": {},
   "outputs": [
    {
     "name": "stdout",
     "output_type": "stream",
     "text": [
      "Device: cpu\n"
     ]
    }
   ],
   "source": [
    "device = torch.device('cuda:0' if torch.cuda.is_available() else 'cpu')\n",
    "print(f'Device: {device}')"
   ]
  },
  {
   "cell_type": "code",
   "execution_count": 17,
   "metadata": {},
   "outputs": [],
   "source": [
    "class CustomVGG(nn.Module):\n",
    "    def __init__(self, features, avgpool_size, num_classes, init_weights=True):\n",
    "        super(CustomVGG, self).__init__()  # Initialize\n",
    "        self.features = features\n",
    "        self.avgpool = nn.AdaptiveAvgPool2d(avgpool_size)\n",
    "        self.classifier = nn.Sequential(\n",
    "            nn.Linear(128 * avgpool_size[0] * avgpool_size[1], 512),\n",
    "            nn.ReLU(True),\n",
    "            nn.Dropout(),\n",
    "            nn.Linear(512, 512),\n",
    "            nn.ReLU(True),\n",
    "            nn.Dropout(),\n",
    "            nn.Linear(512, num_classes)\n",
    "        )\n",
    "        if init_weights:\n",
    "            self._initialize_weights()\n",
    "\n",
    "    def forward(self, x):\n",
    "        x = self.features(x)\n",
    "        x = self.avgpool(x)\n",
    "        x = x.view((x.size(0), -1))\n",
    "        x = self.classifier(x)\n",
    "        return x\n",
    "\n",
    "    def _initialize_weights(self):\n",
    "        for m in self.modules():\n",
    "            if isinstance(m, nn.Conv2d):\n",
    "                nn.init.kaiming_normal_(m.weight, mode='fan_out', nonlinearity='relu')\n",
    "                if m.bias is not None:\n",
    "                    nn.init.constant_(m.bias, 0)\n",
    "            elif isinstance(m, nn.BatchNorm2d):\n",
    "                nn.init.constant_(m.weight, 1)\n",
    "                nn.init.constant_(m.bias, 0)\n",
    "            elif isinstance(m, nn.Linear):\n",
    "                nn.init.normal_(m.weight, 0, 0.01)\n",
    "                nn.init.constant_(m.bias, 0)"
   ]
  },
  {
   "cell_type": "code",
   "execution_count": 18,
   "metadata": {},
   "outputs": [],
   "source": [
    "def make_layers(cfg, in_channels=1, batch_norm=False):\n",
    "    layers = []\n",
    "    for l in cfg:\n",
    "        if l == 'M':\n",
    "            layers.append(nn.MaxPool2d(kernel_size=2, stride=2))\n",
    "        else:\n",
    "            layers.append(nn.Conv2d(in_channels, l, kernel_size=3, padding=1))\n",
    "            if batch_norm:\n",
    "                layers.append(nn.BatchNorm2d(l))\n",
    "            layers.append(nn.ReLU(inplace=True))\n",
    "            in_channels = l\n",
    "    return nn.Sequential(*layers)"
   ]
  },
  {
   "cell_type": "code",
   "execution_count": 19,
   "metadata": {},
   "outputs": [],
   "source": [
    "def get_resnet(model_name='resnet152'):\n",
    "    resnet = getattr(models, model_name)(pretrained=True)  # 1) Load pre-trained model\n",
    "    for param in resnet.parameters():\n",
    "        param.requires_grad = False  # 2) Freeze the layers\n",
    "    in_features = resnet.fc.in_features\n",
    "    resnet.fc = nn.Linear(in_features, num_classes)  # 3) Change the last layer of classifier\n",
    "    resnet = resnet.double().to(device=device)\n",
    "    return resnet, resnet.fc.parameters()"
   ]
  },
  {
   "cell_type": "code",
   "execution_count": 20,
   "metadata": {},
   "outputs": [],
   "source": [
    "def get_alexnet():\n",
    "    alexnet = models.alexnet(pretrained=True)  # 1) Load pre-trained model\n",
    "    for param in alexnet.parameters():\n",
    "        param.requires_grad = False  # 2) Freeze the layers\n",
    "    in_features = alexnet.classifier[6].in_features\n",
    "    alexnet.classifier[6] = nn.Linear(in_features, num_classes)  # 3) Change the last layer of classifier\n",
    "    alexnet = alexnet.double().to(device=device)\n",
    "    return alexnet, alexnet.classifier[6].parameters()"
   ]
  },
  {
   "cell_type": "code",
   "execution_count": 21,
   "metadata": {},
   "outputs": [],
   "source": [
    "def get_vgg(model_name='vgg19_bn'):\n",
    "    vgg = getattr(models, model_name)(pretrained=True)  # 1) Load pre-trained model\n",
    "    for param in vgg.parameters():\n",
    "        param.requires_grad = False  # 2) Freeze the layers\n",
    "    in_features = vgg.classifier[6].in_features\n",
    "    vgg.classifier[6] = nn.Linear(in_features, num_classes)  # 3) Change the last layer of classifier\n",
    "    vgg = vgg.double().to(device=device)\n",
    "    return vgg, vgg.classifier[6].parameters()"
   ]
  },
  {
   "cell_type": "code",
   "execution_count": 22,
   "metadata": {},
   "outputs": [],
   "source": [
    "def get_densenet(model_name='densenet201'):\n",
    "    densenet = getattr(models, model_name)(pretrained=True)  # 1) Load pre-trained model\n",
    "    for param in densenet.parameters():\n",
    "        param.requires_grad = False  # 2) Freeze the layers\n",
    "    in_features = densenet.classifier.in_features\n",
    "    densenet.classifier = nn.Linear(in_features, num_classes)  # 3) Change the last layer of classifier\n",
    "    densenet = densenet.double().to(device=device)\n",
    "    return densenet, densenet.classifier.parameters()"
   ]
  },
  {
   "cell_type": "code",
   "execution_count": 23,
   "metadata": {},
   "outputs": [],
   "source": [
    "def get_squeezenet(model_name='squeezenet1_1'):\n",
    "    squeezenet = getattr(models, model_name)(pretrained=True)  # 1) Load pre-trained model\n",
    "    for param in squeezenet.parameters():\n",
    "        param.requires_grad = False  # 2) Freeze the layers\n",
    "    in_channels = squeezenet.classifier[1].in_channels\n",
    "    squeezenet.classifier[1] = nn.Conv2d(in_channels,\n",
    "                                         num_classes,\n",
    "                                         kernel_size=(1,1),\n",
    "                                         stride=(1,1))  # 3) Change the last layer of classifier\n",
    "    squeezenet = squeezenet.double().to(device=device)\n",
    "    return squeezenet, squeezenet.classifier[1].parameters()"
   ]
  },
  {
   "cell_type": "code",
   "execution_count": 24,
   "metadata": {},
   "outputs": [],
   "source": [
    "vgg_cfg = [32, 32, 'M', 64, 64, 'M', 128, 128, 128, 'M'] #, 512, 512, 512, 'M', 512, 512, 512, 'M']\n",
    "vgg_avgpool_size = (4, 4)\n",
    "\n",
    "def get_custom_vgg():\n",
    "    features = make_layers(vgg_cfg)\n",
    "    custom_vgg = CustomVGG(features=features, num_classes=num_classes, avgpool_size=vgg_avgpool_size)\n",
    "    custom_vgg = custom_vgg.float().to(device=device)\n",
    "    return custom_vgg, custom_vgg.parameters()"
   ]
  },
  {
   "cell_type": "code",
   "execution_count": 25,
   "metadata": {},
   "outputs": [],
   "source": [
    "def pre_trained_pad(x, lpad, rpad, tpad, bpad):\n",
    "    x_pad = np.zeros((x.shape[0], x.shape[1], lpad + x.shape[2] + rpad, tpad + x.shape[3] + bpad))\n",
    "    x_pad[:, :, lpad:-rpad, tpad:-bpad] = x\n",
    "    return x_pad"
   ]
  },
  {
   "cell_type": "code",
   "execution_count": 26,
   "metadata": {},
   "outputs": [],
   "source": [
    "def pre_trained_channel(x, num_channels):\n",
    "    x_channel = np.concatenate([x] * num_channels, axis=1)\n",
    "    return x_channel"
   ]
  },
  {
   "cell_type": "code",
   "execution_count": 27,
   "metadata": {},
   "outputs": [],
   "source": [
    "num_tests = 1\n",
    "test_size = 0.2\n",
    "\n",
    "epochs = 200\n",
    "mini_batch_size = 64\n",
    "mini_batch_size_cv = 64\n",
    "mini_batch_size_ts = 50\n",
    "\n",
    "checkpoint_epochs = 5\n",
    "cross_validation_epochs = 5\n",
    "\n",
    "checkpoint_path = './checkpoints/{}_e{}.pt'\n",
    "result_path = './results/{}.csv'"
   ]
  },
  {
   "cell_type": "code",
   "execution_count": 28,
   "metadata": {},
   "outputs": [],
   "source": [
    "def cross_validate(x_tr, y_tr, clf, params, clf_name):\n",
    "    tr_loss_hist, cv_loss_hist = [], []\n",
    "    tr_acc_hist, cv_acc_hist = [], []\n",
    "\n",
    "    tr_idx, cv_idx = next(StratifiedShuffleSplit(n_splits=1, test_size=test_size).split(x_tr, y_tr))\n",
    "\n",
    "    criterion = nn.CrossEntropyLoss()\n",
    "    optimizer = torch.optim.Adam(params)\n",
    "\n",
    "    for epoch in range(epochs):\n",
    "        clf.train()\n",
    "\n",
    "        running_loss, running_corrects = 0, 0\n",
    "        num_mini_batches = tr_idx.shape[0] / mini_batch_size\n",
    "        for mini_batch, mini_batch_idx in enumerate(np.split(tr_idx, num_mini_batches)):\n",
    "            x_mini_batch = torch.from_numpy(x_tr[mini_batch_idx]).to(device)\n",
    "            y_mini_batch = torch.from_numpy(y_tr[mini_batch_idx]).long().to(device)\n",
    "\n",
    "            y_pred = clf(x_mini_batch).to(device=device)\n",
    "\n",
    "            loss = criterion(y_pred, y_mini_batch)\n",
    "            running_loss += loss.data.item()\n",
    "\n",
    "            _, y_pred = torch.max(y_pred, 1)\n",
    "            y_pred = y_pred.to(device=device)\n",
    "            corrects = (y_pred == y_mini_batch).float().to(device).sum()\n",
    "            running_corrects += corrects\n",
    "\n",
    "            optimizer.zero_grad()  # Reset gradients so it wouldn't be accumulated\n",
    "            loss.backward()  # Calculate gradients\n",
    "            optimizer.step()  # Update the weights\n",
    "\n",
    "        accuracy = running_corrects / tr_idx.shape[0]\n",
    "        logger.info(f'Epoch: {epoch + 1}/{epochs}, Accuracy: {accuracy}, Loss: {running_loss}')\n",
    "        tr_loss_hist.append(running_loss)\n",
    "        tr_acc_hist.append(accuracy)\n",
    "\n",
    "        if (epoch + 1) % checkpoint_epochs == 0:\n",
    "            torch.save(clf, checkpoint_path.format(clf_name, epoch + 1))\n",
    "\n",
    "        if (epoch + 1) % cross_validation_epochs == 0:\n",
    "            clf.eval()\n",
    "\n",
    "            running_loss, running_corrects = 0, 0\n",
    "            num_mini_batches = cv_idx.shape[0] / mini_batch_size_cv\n",
    "            for mini_batch, mini_batch_idx in enumerate(np.split(cv_idx, num_mini_batches)):\n",
    "                x_mini_batch = torch.from_numpy(x_tr[mini_batch_idx]).to(device)\n",
    "                y_mini_batch = torch.from_numpy(y_tr[mini_batch_idx]).long().to(device)\n",
    "\n",
    "                y_pred = clf(x_mini_batch).to(device=device)\n",
    "\n",
    "                loss = criterion(y_pred, y_mini_batch)\n",
    "                running_loss += loss.data.item()\n",
    "\n",
    "                _, y_pred = torch.max(y_pred, 1)\n",
    "                y_pred = y_pred.to(device=device)\n",
    "                corrects = (y_pred == y_mini_batch).float().to(device).sum()\n",
    "                running_corrects += corrects\n",
    "\n",
    "            accuracy = running_corrects / cv_idx.shape[0]\n",
    "            logger.info(f'Epoch: {epoch + 1}/{epochs}, CV Accuracy: {accuracy}, CV Loss: {running_loss}')\n",
    "            cv_loss_hist.append(running_loss)\n",
    "            cv_acc_hist.append(accuracy)\n",
    "    return tr_loss_hist, cv_loss_hist, tr_acc_hist, cv_acc_hist"
   ]
  },
  {
   "cell_type": "code",
   "execution_count": 29,
   "metadata": {},
   "outputs": [],
   "source": [
    "# NOTE: Only run this for pretrained models\n",
    "# x_tr = pre_trained_pad(x_tr, pad, pad, pad, pad)\n",
    "# x_tr = pre_trained_channel(x_tr, imagenet_img_channels)"
   ]
  },
  {
   "cell_type": "code",
   "execution_count": 30,
   "metadata": {},
   "outputs": [
    {
     "name": "stderr",
     "output_type": "stream",
     "text": [
      "Epoch: 1/20, Accuracy: 0.0, Loss: 2.4136993885040283\n",
      "Epoch: 2/20, Accuracy: 9.375000081490725e-05, Loss: 1.8941378593444824\n",
      "Epoch: 3/20, Accuracy: 6.25000029685907e-05, Loss: 2.020894765853882\n",
      "Epoch: 4/20, Accuracy: 9.375000081490725e-05, Loss: 1.4529719352722168\n",
      "Epoch: 5/20, Accuracy: 9.375000081490725e-05, Loss: 1.5077224969863892\n",
      "Epoch: 5/20, CV Accuracy: 0.0, CV Loss: 3.3445332050323486\n",
      "Epoch: 6/20, Accuracy: 9.375000081490725e-05, Loss: 1.425131916999817\n",
      "Epoch: 7/20, Accuracy: 9.375000081490725e-05, Loss: 1.4405416250228882\n",
      "Epoch: 8/20, Accuracy: 0.00015624999650754035, Loss: 0.92940354347229\n",
      "Epoch: 9/20, Accuracy: 0.0001875000016298145, Loss: 0.7765125036239624\n",
      "Epoch: 10/20, Accuracy: 0.00015624999650754035, Loss: 1.098382830619812\n",
      "Epoch: 10/20, CV Accuracy: 0.0, CV Loss: 8.196086883544922\n",
      "Epoch: 11/20, Accuracy: 0.00021875000675208867, Loss: 1.223633050918579\n",
      "Epoch: 12/20, Accuracy: 0.0001875000016298145, Loss: 0.705641508102417\n",
      "Epoch: 13/20, Accuracy: 0.0001875000016298145, Loss: 0.45309868454933167\n",
      "Epoch: 14/20, Accuracy: 0.00015624999650754035, Loss: 0.7744189500808716\n",
      "Epoch: 15/20, Accuracy: 0.0001250000059371814, Loss: 1.1523852348327637\n",
      "Epoch: 15/20, CV Accuracy: 0.0, CV Loss: 4.812108516693115\n",
      "Epoch: 16/20, Accuracy: 0.00021875000675208867, Loss: 0.3941808342933655\n",
      "Epoch: 17/20, Accuracy: 0.00021875000675208867, Loss: 0.4107704162597656\n",
      "Epoch: 18/20, Accuracy: 0.0001875000016298145, Loss: 0.898768424987793\n",
      "Epoch: 19/20, Accuracy: 0.00021875000675208867, Loss: 0.4688562750816345\n",
      "Epoch: 20/20, Accuracy: 0.00021875000675208867, Loss: 0.33579590916633606\n",
      "Epoch: 20/20, CV Accuracy: 0.0, CV Loss: 4.804368495941162\n"
     ]
    }
   ],
   "source": [
    "clf_name = 'custom_vgg'\n",
    "for _ in range(num_tests):\n",
    "    clf, params = get_custom_vgg()\n",
    "    tr_loss_hist, cv_loss_hist, tr_acc_hist, cv_acc_hist = cross_validate(x_tr, y_tr, clf, params, clf_name)"
   ]
  },
  {
   "cell_type": "code",
   "execution_count": 31,
   "metadata": {},
   "outputs": [
    {
     "data": {
      "application/vnd.jupyter.widget-view+json": {
       "model_id": "7d403cbd07904983a31e5e80710c3c93",
       "version_major": 2,
       "version_minor": 0
      },
      "text/plain": [
       "FigureCanvasNbAgg()"
      ]
     },
     "metadata": {},
     "output_type": "display_data"
    }
   ],
   "source": [
    "plt.figure()\n",
    "plt.title('Training Metrics')\n",
    "\n",
    "plt.subplot(2, 1, 1)\n",
    "plt.xlabel('epoch')\n",
    "plt.ylabel('loss')\n",
    "plt.plot(list(range(1, epochs + 1)), tr_loss_hist)\n",
    "plt.plot(list(range(cross_validation_epochs, epochs + 1, cross_validation_epochs)), cv_loss_hist)\n",
    "plt.legend(['train', 'cross validation'], loc='upper left')\n",
    "\n",
    "plt.subplot(2, 1, 2)\n",
    "plt.xlabel('epoch')\n",
    "plt.ylabel('accuracy')\n",
    "plt.plot(list(range(1, epochs + 1)), tr_loss_hist)\n",
    "plt.plot(list(range(cross_validation_epochs, epochs + 1, cross_validation_epochs)), cv_acc_hist)\n",
    "plt.legend(['train', 'cross validation'], loc='upper left')\n",
    "plt.show()"
   ]
  },
  {
   "cell_type": "code",
   "execution_count": 32,
   "metadata": {},
   "outputs": [],
   "source": [
    "def test(x_ts, clf_name, epoch):\n",
    "    clf = torch.load(checkpoint_path.format(clf_name, epoch), map_location=device)\n",
    "    clf.eval()\n",
    "    with open(result_path.format(clf_name), 'w') as f:\n",
    "        f.write('Id,Category\\n')\n",
    "\n",
    "        num_mini_batches = x_ts.shape[0] / mini_batch_size_ts\n",
    "        for mini_batch, x_mini_batch in enumerate(np.split(x_ts, num_mini_batches)):\n",
    "            x_mini_batch = torch.from_numpy(x_mini_batch).to(device)\n",
    "\n",
    "            y_pred_oh = clf(x_mini_batch).to(device=device)  # Calculate output of test in one-hot format\n",
    "            _, y_pred = torch.max(y_pred_oh, 1)  # Change from one-hot to class\n",
    "            y_pred = y_pred.to(device=device)\n",
    "\n",
    "            for i, y_pred_i in enumerate(y_pred):\n",
    "                f.write('{},{}\\n'.format(mini_batch * mini_batch_size_ts + i, y_pred_i))"
   ]
  },
  {
   "cell_type": "code",
   "execution_count": null,
   "metadata": {},
   "outputs": [],
   "source": []
  }
 ],
 "metadata": {
  "kernelspec": {
   "display_name": "Python 3",
   "language": "python",
   "name": "python3"
  },
  "language_info": {
   "codemirror_mode": {
    "name": "ipython",
    "version": 3
   },
   "file_extension": ".py",
   "mimetype": "text/x-python",
   "name": "python",
   "nbconvert_exporter": "python",
   "pygments_lexer": "ipython3",
   "version": "3.7.2"
  }
 },
 "nbformat": 4,
 "nbformat_minor": 2
}
