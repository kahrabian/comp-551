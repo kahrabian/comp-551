{
 "cells": [
  {
   "cell_type": "code",
   "execution_count": 1,
   "metadata": {},
   "outputs": [],
   "source": [
    "import logging\n",
    "from datetime import datetime\n",
    "\n",
    "import matplotlib.pyplot as plt\n",
    "import numpy as np\n",
    "import pandas as pd\n",
    "from sklearn.model_selection import StratifiedShuffleSplit\n",
    "import torch\n",
    "from torch import nn"
   ]
  },
  {
   "cell_type": "code",
   "execution_count": 2,
   "metadata": {},
   "outputs": [],
   "source": [
    "logger = logging.getLogger(__name__)\n",
    "np.random.seed(2019)\n",
    "\n",
    "log_path = datetime.now().strftime('./logs/%Y-%m-%d-%H-%M-%S.log')\n",
    "logging.basicConfig(filename=log_path, level=logging.INFO)\n",
    "logging.getLogger().addHandler(logging.StreamHandler())"
   ]
  },
  {
   "cell_type": "code",
   "execution_count": 3,
   "metadata": {},
   "outputs": [],
   "source": [
    "x_tr = pd.read_pickle('./dataset/train_images.pkl')\n",
    "x_tr = x_tr.reshape((x_tr.shape[0], 1, x_tr.shape[1], x_tr.shape[2]))\n",
    "\n",
    "y_tr = pd.read_csv('./dataset/train_labels.csv')\n",
    "y_tr = y_tr.values[:, 1]\n",
    "\n",
    "num_classes = 10"
   ]
  },
  {
   "cell_type": "code",
   "execution_count": 4,
   "metadata": {},
   "outputs": [
    {
     "name": "stdout",
     "output_type": "stream",
     "text": [
      "(40000, 1, 64, 64)\n",
      "(40000,)\n"
     ]
    }
   ],
   "source": [
    "print(x_tr.shape)\n",
    "print(y_tr.shape)"
   ]
  },
  {
   "cell_type": "code",
   "execution_count": 5,
   "metadata": {},
   "outputs": [
    {
     "data": {
      "application/vnd.jupyter.widget-view+json": {
       "model_id": "0e4f4440618142568fa51a7852bb76fe",
       "version_major": 2,
       "version_minor": 0
      },
      "text/plain": [
       "FigureCanvasNbAgg()"
      ]
     },
     "metadata": {},
     "output_type": "display_data"
    }
   ],
   "source": [
    "%matplotlib widget\n",
    "\n",
    "plt.figure()\n",
    "plt.title('Classes Histogram')\n",
    "plt.xlabel('Class')\n",
    "plt.ylabel('Count')\n",
    "plt.xticks(range(num_classes + 1))\n",
    "plt.hist(y_tr, bins=range(num_classes + 1), histtype='bar', rwidth=0.9)\n",
    "plt.show()"
   ]
  },
  {
   "cell_type": "code",
   "execution_count": 6,
   "metadata": {},
   "outputs": [],
   "source": [
    "def make_layers(cfg, in_channels=1, batch_norm=False):\n",
    "    layers = []\n",
    "    for l in cfg:\n",
    "        if l == 'M':\n",
    "            layers.append(nn.MaxPool2d(kernel_size=2, stride=2))\n",
    "        else:\n",
    "            layers.append(nn.Conv2d(in_channels, l, kernel_size=3, padding=1))\n",
    "            if batch_norm:\n",
    "                layers.append(nn.BatchNorm2d(l))\n",
    "            layers.append(nn.ReLU(inplace=True))\n",
    "            in_channels = l\n",
    "    return nn.Sequential(*layers)"
   ]
  },
  {
   "cell_type": "code",
   "execution_count": 7,
   "metadata": {},
   "outputs": [],
   "source": [
    "class VGG(nn.Module):\n",
    "    def __init__(self, features, avgpool_size, num_classes, init_weights=True):\n",
    "        super(VGG, self).__init__()  # Initialize\n",
    "        self.features = features\n",
    "        self.avgpool = nn.AdaptiveAvgPool2d(avgpool_size)\n",
    "        self.classifier = nn.Sequential(\n",
    "            nn.Linear(128 * 4 * 4, 1024),\n",
    "            nn.ReLU(True),\n",
    "            nn.Dropout(),\n",
    "            nn.Linear(1024, 1024),\n",
    "            nn.ReLU(True),\n",
    "            nn.Dropout(),\n",
    "            nn.Linear(1024, num_classes)\n",
    "        )\n",
    "        if init_weights:\n",
    "            self._initialize_weights()\n",
    "\n",
    "    def forward(self, x):\n",
    "        x = self.features(x)\n",
    "        x = self.avgpool(x)\n",
    "        x = x.view((x.size(0), -1))\n",
    "        x = self.classifier(x)\n",
    "        return x\n",
    "\n",
    "    def _initialize_weights(self):\n",
    "        for m in self.modules():\n",
    "            if isinstance(m, nn.Conv2d):\n",
    "                nn.init.kaiming_normal_(m.weight, mode='fan_out', nonlinearity='relu')\n",
    "                if m.bias is not None:\n",
    "                    nn.init.constant_(m.bias, 0)\n",
    "            elif isinstance(m, nn.BatchNorm2d):\n",
    "                nn.init.constant_(m.weight, 1)\n",
    "                nn.init.constant_(m.bias, 0)\n",
    "            elif isinstance(m, nn.Linear):\n",
    "                nn.init.normal_(m.weight, 0, 0.01)\n",
    "                nn.init.constant_(m.bias, 0)"
   ]
  },
  {
   "cell_type": "code",
   "execution_count": 9,
   "metadata": {},
   "outputs": [],
   "source": [
    "num_tests = 1\n",
    "test_size = 0.2\n",
    "test_results = []\n",
    "\n",
    "vgg_cfg = [64, 64, 'M', 128, 128, 'M'] #, 256, 256, 256, 'M', 512, 512, 512, 'M', 512, 512, 512, 'M']\n",
    "vgg_avgpool_size = (4, 4)\n",
    "\n",
    "epochs = 10\n",
    "mini_batch_size = 256\n",
    "mini_batch_size_cv = 128\n",
    "mini_batch_logs = 25\n",
    "\n",
    "checkpoint_epochs = 5\n",
    "checkpoint_path = './checkpoints/vgg_e{epoch}.pt'\n",
    "\n",
    "cross_validation_epochs = 5\n",
    "\n",
    "tr_losses = []\n",
    "cv_losses = []"
   ]
  },
  {
   "cell_type": "code",
   "execution_count": null,
   "metadata": {},
   "outputs": [],
   "source": [
    "for _ in range(num_tests):\n",
    "    tr_idx, cv_idx = next(StratifiedShuffleSplit(n_splits=1, test_size=test_size).split(x_tr, y_tr))\n",
    "\n",
    "    vgg = VGG(make_layers(vgg_cfg, in_channels=1, batch_norm=True),\n",
    "              num_classes=num_classes,\n",
    "              avgpool_size=vgg_avgpool_size)\n",
    "    criterion = nn.CrossEntropyLoss()\n",
    "    optimizer = torch.optim.Adam(vgg.parameters())\n",
    "\n",
    "    for epoch in range(epochs):\n",
    "        mini_batch_losses = []\n",
    "        num_mini_batches = tr_idx.shape[0] / mini_batch_size\n",
    "        for mini_batch, mini_batch_idx in enumerate(np.split(tr_idx, num_mini_batches)):\n",
    "            x_mini_batch = torch.from_numpy(x_tr[mini_batch_idx])\n",
    "            y_mini_batch = torch.from_numpy(y_tr[mini_batch_idx]).long()\n",
    "\n",
    "            y_pred = vgg(x_mini_batch)  # Calculate output of train\n",
    "            loss = criterion(y_pred, y_mini_batch)  # Calculate loss on train\n",
    "\n",
    "            mini_batch_losses.append(loss.data.item())\n",
    "            if (mini_batch + 1) % mini_batch_logs == 0:\n",
    "                logger.info(f'Epoch : {epoch + 1}  Mini Batch : {mini_batch + 1}  Loss : {loss.data.item()}')\n",
    "\n",
    "            optimizer.zero_grad()  # Reset gradients so it wouldn't be accumulated\n",
    "            loss.backward()  # Calculate gradients\n",
    "            optimizer.step()  # Update the weights\n",
    "\n",
    "        tr_loss = sum(mini_batch_losses)\n",
    "        logger.info(f'Epoch : {epoch + 1}  Train Loss : {tr_loss}')\n",
    "        tr_losses.append(tr_loss)\n",
    "\n",
    "        if (epoch + 1) % checkpoint_epochs == 0:\n",
    "            torch.save(vgg, checkpoint_path.format(epoch=epoch))\n",
    "\n",
    "        if (epoch + 1) % cross_validation_epochs == 0:\n",
    "            mini_batch_losses = []\n",
    "            num_mini_batches = cv_idx.shape[0] / mini_batch_size_cv\n",
    "            for mini_batch, mini_batch_idx in enumerate(np.split(cv_idx, num_mini_batches)):\n",
    "                x_mini_batch = torch.from_numpy(x_tr[mini_batch_idx])\n",
    "                y_mini_batch = torch.from_numpy(y_tr[mini_batch_idx]).long()\n",
    "\n",
    "                y_pred = vgg(x_mini_batch)  # Calculate output of cross validation\n",
    "                loss = criterion(y_prd, y_mini_batch)  # Calculate loss on cross validation\n",
    "\n",
    "                mini_batch_losses.append(loss.data.item())\n",
    "\n",
    "            cv_loss = sum(mini_batch_losses)\n",
    "            logger.info(f'Epoch : {epoch + 1}  Cross Validation Loss : {cv_loss}')\n",
    "            cv_losses.append(cv_loss)"
   ]
  },
  {
   "cell_type": "code",
   "execution_count": null,
   "metadata": {},
   "outputs": [],
   "source": []
  }
 ],
 "metadata": {
  "kernelspec": {
   "display_name": "Python 3",
   "language": "python",
   "name": "python3"
  },
  "language_info": {
   "codemirror_mode": {
    "name": "ipython",
    "version": 3
   },
   "file_extension": ".py",
   "mimetype": "text/x-python",
   "name": "python",
   "nbconvert_exporter": "python",
   "pygments_lexer": "ipython3",
   "version": "3.7.2"
  }
 },
 "nbformat": 4,
 "nbformat_minor": 2
}
